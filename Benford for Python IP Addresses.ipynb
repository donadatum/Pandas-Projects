{
 "cells": [
  {
   "cell_type": "markdown",
   "metadata": {},
   "source": [
    "# Benford  for Python -  IP addresses  UNDER DEVELOPMENT"
   ]
  },
  {
   "cell_type": "markdown",
   "metadata": {},
   "source": [
    "### Current version: 0.1.0.3"
   ]
  },
  {
   "cell_type": "markdown",
   "metadata": {},
   "source": [
    "# IP Test Case"
   ]
  },
  {
   "cell_type": "markdown",
   "metadata": {},
   "source": [
    "### Benford for python is a Package in PyPi (as of December 2017). I discovered this package and on Milcent's github page https://github.com/milcent/benford_py and wanted to run a test on some IP addresses.\n"
   ]
  },
  {
   "cell_type": "markdown",
   "metadata": {},
   "source": [
    "### I chose to use census data as it is known to be a Benford compliant dataset.  Briefly, Benford's Law deals with the  the frequency distribution of leading digits in many real-life sets of numerical data. The law states that in many naturally occurring collections of numbers, the leading significant digits are not evenly distributed.\n",
    "\n",
    "### For example, in sets that obey the law, the number 1 appears as the most significant digit about 30% of the time, while 9 appears as the most significant digit less than 5% of the time. By contrast, if the digits were distributed uniformly, they would each occur about 11.1% of the time (Wikipedia).    \n",
    "\n",
    "### Benford's law is often used in forensic accounting to detect fraud and other anomalies, see (Mark Nigrini and Joseph T. Wells 'Benford's Law: Applications for Forensic Accounting, Auditing and  Fraud Detection)"
   ]
  },
  {
   "cell_type": "code",
   "execution_count": 1,
   "metadata": {
    "collapsed": true
   },
   "outputs": [],
   "source": [
    "%matplotlib inline\n",
    "\n",
    "import numpy as np\n",
    "import pandas as pd"
   ]
  },
  {
   "cell_type": "code",
   "execution_count": 2,
   "metadata": {
    "collapsed": true
   },
   "outputs": [],
   "source": [
    "import benford as bf\n",
    "import os"
   ]
  },
  {
   "cell_type": "markdown",
   "metadata": {},
   "source": [
    "### Load the Data"
   ]
  },
  {
   "cell_type": "code",
   "execution_count": 16,
   "metadata": {
    "collapsed": false,
    "scrolled": false
   },
   "outputs": [],
   "source": [
    "good_ips = pd.read_csv('good_ips_index.csv',\n",
    "                       encoding='latin-1',\n",
    "                       index_col=\"Record\")"
   ]
  },
  {
   "cell_type": "code",
   "execution_count": 12,
   "metadata": {
    "collapsed": false
   },
   "outputs": [
    {
     "name": "stdout",
     "output_type": "stream",
     "text": [
      "<class 'pandas.core.frame.DataFrame'>\n",
      "Int64Index: 9867 entries, 1 to 9867\n",
      "Data columns (total 2 columns):\n",
      "Server Address    9867 non-null object\n",
      "first             9867 non-null int64\n",
      "dtypes: int64(1), object(1)\n",
      "memory usage: 231.3+ KB\n"
     ]
    }
   ],
   "source": [
    "good_ips.info()"
   ]
  },
  {
   "cell_type": "markdown",
   "metadata": {},
   "source": [
    "#### The dataframe contains and index column (Record), Server Address and a column with the first digit.  "
   ]
  },
  {
   "cell_type": "code",
   "execution_count": 13,
   "metadata": {
    "collapsed": false
   },
   "outputs": [
    {
     "data": {
      "text/html": [
       "<div>\n",
       "<style scoped>\n",
       "    .dataframe tbody tr th:only-of-type {\n",
       "        vertical-align: middle;\n",
       "    }\n",
       "\n",
       "    .dataframe tbody tr th {\n",
       "        vertical-align: top;\n",
       "    }\n",
       "\n",
       "    .dataframe thead th {\n",
       "        text-align: right;\n",
       "    }\n",
       "</style>\n",
       "<table border=\"1\" class=\"dataframe\">\n",
       "  <thead>\n",
       "    <tr style=\"text-align: right;\">\n",
       "      <th></th>\n",
       "      <th>Server Address</th>\n",
       "      <th>first</th>\n",
       "    </tr>\n",
       "    <tr>\n",
       "      <th>Record</th>\n",
       "      <th></th>\n",
       "      <th></th>\n",
       "    </tr>\n",
       "  </thead>\n",
       "  <tbody>\n",
       "    <tr>\n",
       "      <th>1</th>\n",
       "      <td>34.239.253.124</td>\n",
       "      <td>3</td>\n",
       "    </tr>\n",
       "    <tr>\n",
       "      <th>2</th>\n",
       "      <td>151.101.64.70</td>\n",
       "      <td>1</td>\n",
       "    </tr>\n",
       "    <tr>\n",
       "      <th>3</th>\n",
       "      <td>151.101.64.70</td>\n",
       "      <td>1</td>\n",
       "    </tr>\n",
       "    <tr>\n",
       "      <th>4</th>\n",
       "      <td>173.194.78.189</td>\n",
       "      <td>1</td>\n",
       "    </tr>\n",
       "    <tr>\n",
       "      <th>5</th>\n",
       "      <td>172.217.6.142</td>\n",
       "      <td>1</td>\n",
       "    </tr>\n",
       "  </tbody>\n",
       "</table>\n",
       "</div>"
      ],
      "text/plain": [
       "        Server Address  first\n",
       "Record                       \n",
       "1       34.239.253.124      3\n",
       "2        151.101.64.70      1\n",
       "3        151.101.64.70      1\n",
       "4       173.194.78.189      1\n",
       "5        172.217.6.142      1"
      ]
     },
     "execution_count": 13,
     "metadata": {},
     "output_type": "execute_result"
    }
   ],
   "source": [
    "good_ips.head()"
   ]
  },
  {
   "cell_type": "markdown",
   "metadata": {},
   "source": [
    "#### There are  9,867 addresses"
   ]
  },
  {
   "cell_type": "markdown",
   "metadata": {},
   "source": [
    "### First Digits Test"
   ]
  },
  {
   "cell_type": "markdown",
   "metadata": {},
   "source": [
    "### Let us see if the IP data conforms to Benford's Law "
   ]
  },
  {
   "cell_type": "markdown",
   "metadata": {},
   "source": [
    "## Please see error below, I've tried to pass an index parameter in the bf.first_digits function but it does not accept it."
   ]
  },
  {
   "cell_type": "markdown",
   "metadata": {},
   "source": [
    "### It's something with the constructor of the DataFrame inside pandas that the function calls. I found it very weird, since there is no way we could be using a *scalar* value."
   ]
  },
  {
   "cell_type": "markdown",
   "metadata": {},
   "source": [
    "### First, I forgot the `first` column and converted the `Server Address` column into ints after removing all the IPs '.'. "
   ]
  },
  {
   "cell_type": "code",
   "execution_count": 6,
   "metadata": {},
   "outputs": [
    {
     "data": {
      "text/html": [
       "<div>\n",
       "<style scoped>\n",
       "    .dataframe tbody tr th:only-of-type {\n",
       "        vertical-align: middle;\n",
       "    }\n",
       "\n",
       "    .dataframe tbody tr th {\n",
       "        vertical-align: top;\n",
       "    }\n",
       "\n",
       "    .dataframe thead th {\n",
       "        text-align: right;\n",
       "    }\n",
       "</style>\n",
       "<table border=\"1\" class=\"dataframe\">\n",
       "  <thead>\n",
       "    <tr style=\"text-align: right;\">\n",
       "      <th></th>\n",
       "      <th>Server Address</th>\n",
       "      <th>first</th>\n",
       "      <th>ip_numbers</th>\n",
       "    </tr>\n",
       "    <tr>\n",
       "      <th>Record</th>\n",
       "      <th></th>\n",
       "      <th></th>\n",
       "      <th></th>\n",
       "    </tr>\n",
       "  </thead>\n",
       "  <tbody>\n",
       "    <tr>\n",
       "      <th>1</th>\n",
       "      <td>34.239.253.124</td>\n",
       "      <td>3</td>\n",
       "      <td>34239253124</td>\n",
       "    </tr>\n",
       "    <tr>\n",
       "      <th>2</th>\n",
       "      <td>151.101.64.70</td>\n",
       "      <td>1</td>\n",
       "      <td>1511016470</td>\n",
       "    </tr>\n",
       "    <tr>\n",
       "      <th>3</th>\n",
       "      <td>151.101.64.70</td>\n",
       "      <td>1</td>\n",
       "      <td>1511016470</td>\n",
       "    </tr>\n",
       "    <tr>\n",
       "      <th>4</th>\n",
       "      <td>173.194.78.189</td>\n",
       "      <td>1</td>\n",
       "      <td>17319478189</td>\n",
       "    </tr>\n",
       "    <tr>\n",
       "      <th>5</th>\n",
       "      <td>172.217.6.142</td>\n",
       "      <td>1</td>\n",
       "      <td>1722176142</td>\n",
       "    </tr>\n",
       "  </tbody>\n",
       "</table>\n",
       "</div>"
      ],
      "text/plain": [
       "        Server Address  first   ip_numbers\n",
       "Record                                    \n",
       "1       34.239.253.124      3  34239253124\n",
       "2        151.101.64.70      1   1511016470\n",
       "3        151.101.64.70      1   1511016470\n",
       "4       173.194.78.189      1  17319478189\n",
       "5        172.217.6.142      1   1722176142"
      ]
     },
     "execution_count": 6,
     "metadata": {},
     "output_type": "execute_result"
    }
   ],
   "source": [
    "good_ips['ip_numbers'] = good_ips['Server Address'].str.replace('.','').astype(int)\n",
    "good_ips.head()"
   ]
  },
  {
   "cell_type": "markdown",
   "metadata": {},
   "source": [
    "### Then I ran the function on it."
   ]
  },
  {
   "cell_type": "code",
   "execution_count": 7,
   "metadata": {
    "collapsed": false
   },
   "outputs": [
    {
     "name": "stdout",
     "output_type": "stream",
     "text": [
      "Initialized sequence with 9867 registries.\n",
      "\n",
      "Test performed on 9867 registries.\n",
      "Discarded 0 records < 1 after preparation.\n",
      "\n",
      "The entries with the significant deviations are:\n",
      "\n",
      "             Expected     Found     Z_score\n",
      "First_1_Dig                                \n",
      "1            0.301030  0.899868  129.667516\n",
      "2            0.176091  0.027972   38.614192\n",
      "3            0.124939  0.006284   35.630828\n",
      "4            0.096910  0.000101   32.488493\n",
      "6            0.066947  0.001926   25.822050\n",
      "7            0.057992  0.001419   24.021605\n",
      "8            0.051153  0.001419   22.401054\n",
      "9            0.045757  0.000507   21.486776\n",
      "5            0.079181  0.060505    6.851894\n"
     ]
    },
    {
     "data": {
      "image/png": "[encoded data removed]",
      "text/plain": [
       "<matplotlib.figure.Figure at 0x7fec496d35c0>"
      ]
     },
     "metadata": {},
     "output_type": "display_data"
    }
   ],
   "source": [
    "ips_first = bf.first_digits(good_ips.ip_numbers, digs=1, decimals=0, confidence=99, high_Z='all') "
   ]
  },
  {
   "cell_type": "markdown",
   "metadata": {},
   "source": [
    "### Everything went fine, except for the non-compliant dataset :)"
   ]
  },
  {
   "cell_type": "markdown",
   "metadata": {},
   "source": [
    "### But it still doesn't explain why the other column wouldn't work. So I thought, maybe pandas was getting confused when you called `good_ips.first` and throwing a scalar value of some sort. Indeed, when I called it like that bellow, surprise(!), it is already a DataFrame method (somethign to handle initial periods of time series), which means that to use it like that you would have to change the column name."
   ]
  },
  {
   "cell_type": "code",
   "execution_count": 22,
   "metadata": {},
   "outputs": [
    {
     "data": {
      "text/plain": [
       "\u001b[0;31mSignature:\u001b[0m \u001b[0mgood_ips\u001b[0m\u001b[0;34m.\u001b[0m\u001b[0mfirst\u001b[0m\u001b[0;34m(\u001b[0m\u001b[0moffset\u001b[0m\u001b[0;34m)\u001b[0m\u001b[0;34m\u001b[0m\u001b[0m\n",
       "\u001b[0;31mDocstring:\u001b[0m\n",
       "Convenience method for subsetting initial periods of time series data\n",
       "based on a date offset.\n",
       "\n",
       "Parameters\n",
       "----------\n",
       "offset : string, DateOffset, dateutil.relativedelta\n",
       "\n",
       "Examples\n",
       "--------\n",
       "ts.first('10D') -> First 10 days\n",
       "\n",
       "Returns\n",
       "-------\n",
       "subset : type of caller\n",
       "\u001b[0;31mFile:\u001b[0m      ~/anaconda3/lib/python3.6/site-packages/pandas/core/generic.py\n",
       "\u001b[0;31mType:\u001b[0m      method\n"
      ]
     },
     "metadata": {},
     "output_type": "display_data"
    }
   ],
   "source": [
    "good_ips.first?"
   ]
  },
  {
   "cell_type": "markdown",
   "metadata": {},
   "source": [
    "### Or use the ['`column`'] notation, like bellow, which rendered the same result."
   ]
  },
  {
   "cell_type": "code",
   "execution_count": 8,
   "metadata": {
    "collapsed": true
   },
   "outputs": [
    {
     "name": "stdout",
     "output_type": "stream",
     "text": [
      "Initialized sequence with 9867 registries.\n",
      "\n",
      "Test performed on 9867 registries.\n",
      "Discarded 0 records < 1 after preparation.\n",
      "\n",
      "The entries with the significant deviations are:\n",
      "\n",
      "             Expected     Found     Z_score\n",
      "First_1_Dig                                \n",
      "1            0.301030  0.899868  129.667516\n",
      "2            0.176091  0.027972   38.614192\n",
      "3            0.124939  0.006284   35.630828\n",
      "4            0.096910  0.000101   32.488493\n",
      "6            0.066947  0.001926   25.822050\n",
      "7            0.057992  0.001419   24.021605\n",
      "8            0.051153  0.001419   22.401054\n",
      "9            0.045757  0.000507   21.486776\n",
      "5            0.079181  0.060505    6.851894\n"
     ]
    },
    {
     "data": {
      "image/png": "[encoded data removed]",
      "text/plain": [
       "<matplotlib.figure.Figure at 0x7fec489a2240>"
      ]
     },
     "metadata": {},
     "output_type": "display_data"
    }
   ],
   "source": [
    "ips_scalar = bf.first_digits(good_ips['first'], digs=1, decimals=0, confidence=99, high_Z='all')"
   ]
  },
  {
   "cell_type": "markdown",
   "metadata": {},
   "source": [
    "### Hope it helped!"
   ]
  }
 ],
 "metadata": {
  "anaconda-cloud": {},
  "kernelspec": {
   "display_name": "Python 3",
   "language": "python",
   "name": "python3"
  },
  "language_info": {
   "codemirror_mode": {
    "name": "ipython",
    "version": 3
   },
   "file_extension": ".py",
   "mimetype": "text/x-python",
   "name": "python",
   "nbconvert_exporter": "python",
   "pygments_lexer": "ipython3",
   "version": "3.6.1"
  }
 },
 "nbformat": 4,
 "nbformat_minor": 2
}
