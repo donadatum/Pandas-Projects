{
 "cells": [
  {
   "cell_type": "markdown",
   "metadata": {},
   "source": [
    "## Simple Threat Analysis with Pandas\n",
    "\n",
    "This notebook demonstrates a simple way to identify known bad actors within egress transaction generated from wire data traffic. Python Pandas is used to compare the IP addresses of servers exfiltrating from our 'friendly\" set of IP addresses against known threats. \n",
    " \n",
    "This example uses IP addresses that have been reported within the last 48 hours as having run attacks on the service Mail, Postfix at the Blocklist website: https://lists.blocklist.de/lists/mail.txt, downloaded Jan 9"
   ]
  },
  {
   "cell_type": "code",
   "execution_count": 41,
   "metadata": {
    "collapsed": true
   },
   "outputs": [],
   "source": [
    "import pandas as pd\n",
    "import os\n",
    "import numpy"
   ]
  },
  {
   "cell_type": "markdown",
   "metadata": {},
   "source": [
    "This test 'friendly' data is 10,000 records of egress transaction.\n",
    "Read the data in pandas. "
   ]
  },
  {
   "cell_type": "code",
   "execution_count": 42,
   "metadata": {
    "collapsed": false
   },
   "outputs": [],
   "source": [
    "egress=pd.read_csv(\"Traffic.csv\", encoding='latin-1')"
   ]
  },
  {
   "cell_type": "code",
   "execution_count": 43,
   "metadata": {
    "collapsed": false
   },
   "outputs": [
    {
     "data": {
      "text/html": [
       "<div>\n",
       "<table border=\"1\" class=\"dataframe\">\n",
       "  <thead>\n",
       "    <tr style=\"text-align: right;\">\n",
       "      <th></th>\n",
       "      <th>Time</th>\n",
       "      <th>Record Type</th>\n",
       "      <th>Source</th>\n",
       "      <th>Destination</th>\n",
       "      <th>Source Location</th>\n",
       "      <th>Dest Location</th>\n",
       "      <th>Environment</th>\n",
       "      <th>Dest Country</th>\n",
       "      <th>Protocol</th>\n",
       "      <th>Client Address</th>\n",
       "      <th>Client Bytes</th>\n",
       "      <th>Server Address</th>\n",
       "      <th>Server Bytes</th>\n",
       "      <th>Latency</th>\n",
       "      <th>Process Time</th>\n",
       "    </tr>\n",
       "  </thead>\n",
       "  <tbody>\n",
       "    <tr>\n",
       "      <th>0</th>\n",
       "      <td>55:39.4</td>\n",
       "      <td>Flow Audit</td>\n",
       "      <td>External</td>\n",
       "      <td>External</td>\n",
       "      <td>DC Datacenter</td>\n",
       "      <td>DC Datacenter</td>\n",
       "      <td>EGRESS</td>\n",
       "      <td>United States</td>\n",
       "      <td>telnet</td>\n",
       "      <td>172.45.8.6</td>\n",
       "      <td>3</td>\n",
       "      <td>172.45.8.56</td>\n",
       "      <td>36</td>\n",
       "      <td>NaN</td>\n",
       "      <td>NaN</td>\n",
       "    </tr>\n",
       "    <tr>\n",
       "      <th>1</th>\n",
       "      <td>55:38.5</td>\n",
       "      <td>Flow Audit</td>\n",
       "      <td>External</td>\n",
       "      <td>External</td>\n",
       "      <td>DC Datacenter</td>\n",
       "      <td>DC Datacenter</td>\n",
       "      <td>EGRESS</td>\n",
       "      <td>United States</td>\n",
       "      <td>tcp:23</td>\n",
       "      <td>172.45.8.9</td>\n",
       "      <td>1</td>\n",
       "      <td>172.45.8.59</td>\n",
       "      <td>1</td>\n",
       "      <td>NaN</td>\n",
       "      <td>17.626</td>\n",
       "    </tr>\n",
       "    <tr>\n",
       "      <th>2</th>\n",
       "      <td>55:38.5</td>\n",
       "      <td>Flow Audit</td>\n",
       "      <td>Santa Clara Campus (Users)</td>\n",
       "      <td>External</td>\n",
       "      <td>Santa Clara Office</td>\n",
       "      <td>California</td>\n",
       "      <td>EGRESS</td>\n",
       "      <td>United States</td>\n",
       "      <td>SSL:443</td>\n",
       "      <td>192.168.0.104</td>\n",
       "      <td>173</td>\n",
       "      <td>173.194.33.144</td>\n",
       "      <td>133</td>\n",
       "      <td>NaN</td>\n",
       "      <td>NaN</td>\n",
       "    </tr>\n",
       "    <tr>\n",
       "      <th>3</th>\n",
       "      <td>55:38.5</td>\n",
       "      <td>Flow Audit</td>\n",
       "      <td>Santa Clara Campus (Users)</td>\n",
       "      <td>External</td>\n",
       "      <td>Santa Clara Office</td>\n",
       "      <td>California</td>\n",
       "      <td>EGRESS</td>\n",
       "      <td>United States</td>\n",
       "      <td>SSL:443</td>\n",
       "      <td>192.168.0.104</td>\n",
       "      <td>600</td>\n",
       "      <td>173.194.33.144</td>\n",
       "      <td>1,406</td>\n",
       "      <td>NaN</td>\n",
       "      <td>0.747</td>\n",
       "    </tr>\n",
       "    <tr>\n",
       "      <th>4</th>\n",
       "      <td>55:38.3</td>\n",
       "      <td>Flow Audit</td>\n",
       "      <td>External</td>\n",
       "      <td>External</td>\n",
       "      <td>DC Datacenter</td>\n",
       "      <td>DC Datacenter</td>\n",
       "      <td>EGRESS</td>\n",
       "      <td>United States</td>\n",
       "      <td>tcp:23</td>\n",
       "      <td>172.45.8.9</td>\n",
       "      <td>1</td>\n",
       "      <td>172.45.8.59</td>\n",
       "      <td>1</td>\n",
       "      <td>NaN</td>\n",
       "      <td>64.652</td>\n",
       "    </tr>\n",
       "  </tbody>\n",
       "</table>\n",
       "</div>"
      ],
      "text/plain": [
       "      Time Record Type                      Source Destination  \\\n",
       "0  55:39.4  Flow Audit                    External    External   \n",
       "1  55:38.5  Flow Audit                    External    External   \n",
       "2  55:38.5  Flow Audit  Santa Clara Campus (Users)    External   \n",
       "3  55:38.5  Flow Audit  Santa Clara Campus (Users)    External   \n",
       "4  55:38.3  Flow Audit                    External    External   \n",
       "\n",
       "      Source Location  Dest Location Environment   Dest Country Protocol  \\\n",
       "0       DC Datacenter  DC Datacenter      EGRESS  United States   telnet   \n",
       "1       DC Datacenter  DC Datacenter      EGRESS  United States   tcp:23   \n",
       "2  Santa Clara Office     California      EGRESS  United States  SSL:443   \n",
       "3  Santa Clara Office     California      EGRESS  United States  SSL:443   \n",
       "4       DC Datacenter  DC Datacenter      EGRESS  United States   tcp:23   \n",
       "\n",
       "  Client Address Client Bytes  Server Address Server Bytes Latency  \\\n",
       "0     172.45.8.6            3     172.45.8.56           36     NaN   \n",
       "1     172.45.8.9            1     172.45.8.59            1     NaN   \n",
       "2  192.168.0.104          173  173.194.33.144          133     NaN   \n",
       "3  192.168.0.104          600  173.194.33.144        1,406     NaN   \n",
       "4     172.45.8.9            1     172.45.8.59            1     NaN   \n",
       "\n",
       "  Process Time  \n",
       "0          NaN  \n",
       "1       17.626  \n",
       "2          NaN  \n",
       "3        0.747  \n",
       "4       64.652  "
      ]
     },
     "execution_count": 43,
     "metadata": {},
     "output_type": "execute_result"
    }
   ],
   "source": [
    "egress.head(5)"
   ]
  },
  {
   "cell_type": "markdown",
   "metadata": {},
   "source": [
    "We can quickly identify the countries and volume of traffice associated with the egress servers and dig deeper into transactions linked to a country of concern, for example 'France."
   ]
  },
  {
   "cell_type": "code",
   "execution_count": 44,
   "metadata": {
    "collapsed": false
   },
   "outputs": [],
   "source": [
    "servers=egress['Dest Country']"
   ]
  },
  {
   "cell_type": "code",
   "execution_count": 45,
   "metadata": {
    "collapsed": false
   },
   "outputs": [
    {
     "data": {
      "text/plain": [
       "United States     9580\n",
       "Norway             291\n",
       "Ireland             51\n",
       "Japan               22\n",
       "France              13\n",
       "Netherlands         10\n",
       "Singapore            5\n",
       "Poland               1\n",
       "United Kingdom       1\n",
       "Name: Dest Country, dtype: int64"
      ]
     },
     "execution_count": 45,
     "metadata": {},
     "output_type": "execute_result"
    }
   ],
   "source": [
    "servers.value_counts()"
   ]
  },
  {
   "cell_type": "code",
   "execution_count": 46,
   "metadata": {
    "collapsed": false
   },
   "outputs": [],
   "source": [
    "France=(egress.loc[egress['Dest Country'].isin(['France'])])"
   ]
  },
  {
   "cell_type": "code",
   "execution_count": 47,
   "metadata": {
    "collapsed": false
   },
   "outputs": [
    {
     "data": {
      "text/html": [
       "<div>\n",
       "<table border=\"1\" class=\"dataframe\">\n",
       "  <thead>\n",
       "    <tr style=\"text-align: right;\">\n",
       "      <th></th>\n",
       "      <th>Time</th>\n",
       "      <th>Record Type</th>\n",
       "      <th>Source</th>\n",
       "      <th>Destination</th>\n",
       "      <th>Source Location</th>\n",
       "      <th>Dest Location</th>\n",
       "      <th>Environment</th>\n",
       "      <th>Dest Country</th>\n",
       "      <th>Protocol</th>\n",
       "      <th>Client Address</th>\n",
       "      <th>Client Bytes</th>\n",
       "      <th>Server Address</th>\n",
       "      <th>Server Bytes</th>\n",
       "      <th>Latency</th>\n",
       "      <th>Process Time</th>\n",
       "    </tr>\n",
       "  </thead>\n",
       "  <tbody>\n",
       "    <tr>\n",
       "      <th>1784</th>\n",
       "      <td>50:13.4</td>\n",
       "      <td>Flow Audit</td>\n",
       "      <td>Santa Clara Campus (Users)</td>\n",
       "      <td>External</td>\n",
       "      <td>Santa Clara Office</td>\n",
       "      <td>Ì_le-de-France</td>\n",
       "      <td>EGRESS</td>\n",
       "      <td>France</td>\n",
       "      <td>SSL:443</td>\n",
       "      <td>192.168.0.99</td>\n",
       "      <td>126</td>\n",
       "      <td>74.121.138.36</td>\n",
       "      <td>258</td>\n",
       "      <td>NaN</td>\n",
       "      <td>57.071</td>\n",
       "    </tr>\n",
       "    <tr>\n",
       "      <th>1787</th>\n",
       "      <td>50:13.3</td>\n",
       "      <td>Flow Audit</td>\n",
       "      <td>Santa Clara Campus (Users)</td>\n",
       "      <td>External</td>\n",
       "      <td>Santa Clara Office</td>\n",
       "      <td>Ì_le-de-France</td>\n",
       "      <td>EGRESS</td>\n",
       "      <td>France</td>\n",
       "      <td>SSL:443</td>\n",
       "      <td>192.168.0.99</td>\n",
       "      <td>517</td>\n",
       "      <td>74.121.138.36</td>\n",
       "      <td>2,916</td>\n",
       "      <td>60.99</td>\n",
       "      <td>76.425</td>\n",
       "    </tr>\n",
       "  </tbody>\n",
       "</table>\n",
       "</div>"
      ],
      "text/plain": [
       "         Time Record Type                      Source Destination  \\\n",
       "1784  50:13.4  Flow Audit  Santa Clara Campus (Users)    External   \n",
       "1787  50:13.3  Flow Audit  Santa Clara Campus (Users)    External   \n",
       "\n",
       "         Source Location   Dest Location Environment Dest Country Protocol  \\\n",
       "1784  Santa Clara Office  Ì_le-de-France      EGRESS       France  SSL:443   \n",
       "1787  Santa Clara Office  Ì_le-de-France      EGRESS       France  SSL:443   \n",
       "\n",
       "     Client Address Client Bytes Server Address Server Bytes Latency  \\\n",
       "1784   192.168.0.99          126  74.121.138.36          258     NaN   \n",
       "1787   192.168.0.99          517  74.121.138.36        2,916   60.99   \n",
       "\n",
       "     Process Time  \n",
       "1784       57.071  \n",
       "1787       76.425  "
      ]
     },
     "execution_count": 47,
     "metadata": {},
     "output_type": "execute_result"
    }
   ],
   "source": [
    "France.head(2)"
   ]
  },
  {
   "cell_type": "markdown",
   "metadata": {},
   "source": [
    "We can see that there are 13 transactions, all from the Santa Clara Campus, the most frequent destinationis Ale-de-France and 188.165.39.118 is the most common server address.\t"
   ]
  },
  {
   "cell_type": "code",
   "execution_count": 48,
   "metadata": {
    "collapsed": false
   },
   "outputs": [
    {
     "data": {
      "text/html": [
       "<div>\n",
       "<table border=\"1\" class=\"dataframe\">\n",
       "  <thead>\n",
       "    <tr style=\"text-align: right;\">\n",
       "      <th></th>\n",
       "      <th>Time</th>\n",
       "      <th>Record Type</th>\n",
       "      <th>Source</th>\n",
       "      <th>Destination</th>\n",
       "      <th>Source Location</th>\n",
       "      <th>Dest Location</th>\n",
       "      <th>Environment</th>\n",
       "      <th>Dest Country</th>\n",
       "      <th>Protocol</th>\n",
       "      <th>Client Address</th>\n",
       "      <th>Client Bytes</th>\n",
       "      <th>Server Address</th>\n",
       "      <th>Server Bytes</th>\n",
       "      <th>Latency</th>\n",
       "      <th>Process Time</th>\n",
       "    </tr>\n",
       "  </thead>\n",
       "  <tbody>\n",
       "    <tr>\n",
       "      <th>count</th>\n",
       "      <td>13</td>\n",
       "      <td>13</td>\n",
       "      <td>13</td>\n",
       "      <td>13</td>\n",
       "      <td>13</td>\n",
       "      <td>5</td>\n",
       "      <td>13</td>\n",
       "      <td>13</td>\n",
       "      <td>13</td>\n",
       "      <td>13</td>\n",
       "      <td>13</td>\n",
       "      <td>13</td>\n",
       "      <td>13</td>\n",
       "      <td>6</td>\n",
       "      <td>12</td>\n",
       "    </tr>\n",
       "    <tr>\n",
       "      <th>unique</th>\n",
       "      <td>9</td>\n",
       "      <td>1</td>\n",
       "      <td>1</td>\n",
       "      <td>1</td>\n",
       "      <td>1</td>\n",
       "      <td>1</td>\n",
       "      <td>1</td>\n",
       "      <td>1</td>\n",
       "      <td>1</td>\n",
       "      <td>1</td>\n",
       "      <td>8</td>\n",
       "      <td>4</td>\n",
       "      <td>9</td>\n",
       "      <td>6</td>\n",
       "      <td>12</td>\n",
       "    </tr>\n",
       "    <tr>\n",
       "      <th>top</th>\n",
       "      <td>40:26.4</td>\n",
       "      <td>Flow Audit</td>\n",
       "      <td>Santa Clara Campus (Users)</td>\n",
       "      <td>External</td>\n",
       "      <td>Santa Clara Office</td>\n",
       "      <td>Ì_le-de-France</td>\n",
       "      <td>EGRESS</td>\n",
       "      <td>France</td>\n",
       "      <td>SSL:443</td>\n",
       "      <td>192.168.0.99</td>\n",
       "      <td>517</td>\n",
       "      <td>178.250.2.78</td>\n",
       "      <td>137</td>\n",
       "      <td>138.476</td>\n",
       "      <td>135.259</td>\n",
       "    </tr>\n",
       "    <tr>\n",
       "      <th>freq</th>\n",
       "      <td>2</td>\n",
       "      <td>13</td>\n",
       "      <td>13</td>\n",
       "      <td>13</td>\n",
       "      <td>13</td>\n",
       "      <td>5</td>\n",
       "      <td>13</td>\n",
       "      <td>13</td>\n",
       "      <td>13</td>\n",
       "      <td>13</td>\n",
       "      <td>3</td>\n",
       "      <td>4</td>\n",
       "      <td>2</td>\n",
       "      <td>1</td>\n",
       "      <td>1</td>\n",
       "    </tr>\n",
       "  </tbody>\n",
       "</table>\n",
       "</div>"
      ],
      "text/plain": [
       "           Time Record Type                      Source Destination  \\\n",
       "count        13          13                          13          13   \n",
       "unique        9           1                           1           1   \n",
       "top     40:26.4  Flow Audit  Santa Clara Campus (Users)    External   \n",
       "freq          2          13                          13          13   \n",
       "\n",
       "           Source Location   Dest Location Environment Dest Country Protocol  \\\n",
       "count                   13               5          13           13       13   \n",
       "unique                   1               1           1            1        1   \n",
       "top     Santa Clara Office  Ì_le-de-France      EGRESS       France  SSL:443   \n",
       "freq                    13               5          13           13       13   \n",
       "\n",
       "       Client Address Client Bytes Server Address Server Bytes  Latency  \\\n",
       "count              13           13             13           13        6   \n",
       "unique              1            8              4            9        6   \n",
       "top      192.168.0.99          517   178.250.2.78          137  138.476   \n",
       "freq               13            3              4            2        1   \n",
       "\n",
       "       Process Time  \n",
       "count            12  \n",
       "unique           12  \n",
       "top         135.259  \n",
       "freq              1  "
      ]
     },
     "execution_count": 48,
     "metadata": {},
     "output_type": "execute_result"
    }
   ],
   "source": [
    "France.describe()"
   ]
  },
  {
   "cell_type": "code",
   "execution_count": 49,
   "metadata": {
    "collapsed": false
   },
   "outputs": [],
   "source": [
    "server_ip=egress['Server Address']"
   ]
  },
  {
   "cell_type": "markdown",
   "metadata": {},
   "source": [
    "We can also determen the frequency of each egress IP address in the test data set."
   ]
  },
  {
   "cell_type": "code",
   "execution_count": 50,
   "metadata": {
    "collapsed": false
   },
   "outputs": [
    {
     "data": {
      "text/plain": [
       "count            10000\n",
       "unique             691\n",
       "top       52.70.108.65\n",
       "freq               225\n",
       "Name: Server Address, dtype: object"
      ]
     },
     "execution_count": 50,
     "metadata": {},
     "output_type": "execute_result"
    }
   ],
   "source": [
    "server_ip.describe()"
   ]
  },
  {
   "cell_type": "markdown",
   "metadata": {},
   "source": [
    "We can easily identify the top 20 most frequent ip addresses."
   ]
  },
  {
   "cell_type": "code",
   "execution_count": 51,
   "metadata": {
    "collapsed": false
   },
   "outputs": [
    {
     "data": {
      "text/plain": [
       "52.70.108.65       225\n",
       "152.195.32.119     221\n",
       "208.43.234.47      196\n",
       "74.125.30.189      181\n",
       "173.194.33.75      152\n",
       "192.229.163.180    147\n",
       "69.172.216.111     145\n",
       "104.96.86.223      142\n",
       "108.174.11.65      132\n",
       "192.0.72.2         114\n",
       "173.194.33.69      105\n",
       "23.59.189.82       104\n",
       "172.45.8.97        101\n",
       "91.203.99.19        99\n",
       "172.45.8.81         97\n",
       "172.45.8.83         94\n",
       "172.45.8.98         92\n",
       "172.45.8.62         90\n",
       "172.45.8.86         90\n",
       "172.45.8.78         89\n",
       "Name: Server Address, dtype: int64"
      ]
     },
     "execution_count": 51,
     "metadata": {},
     "output_type": "execute_result"
    }
   ],
   "source": [
    "server_ip.value_counts().head(20)"
   ]
  },
  {
   "cell_type": "markdown",
   "metadata": {},
   "source": [
    "For our purposes we will extract just the egress 'Server Address' column."
   ]
  },
  {
   "cell_type": "code",
   "execution_count": 52,
   "metadata": {
    "collapsed": false
   },
   "outputs": [],
   "source": [
    "justip=egress['Server Address']"
   ]
  },
  {
   "cell_type": "code",
   "execution_count": 53,
   "metadata": {
    "collapsed": false
   },
   "outputs": [],
   "source": [
    "justip=justip.to_frame()"
   ]
  },
  {
   "cell_type": "code",
   "execution_count": 54,
   "metadata": {
    "collapsed": false
   },
   "outputs": [
    {
     "data": {
      "text/plain": [
       "pandas.core.frame.DataFrame"
      ]
     },
     "execution_count": 54,
     "metadata": {},
     "output_type": "execute_result"
    }
   ],
   "source": [
    "type(justip)"
   ]
  },
  {
   "cell_type": "code",
   "execution_count": 55,
   "metadata": {
    "collapsed": true
   },
   "outputs": [],
   "source": [
    "justip.columns =['Server Address']\n"
   ]
  },
  {
   "cell_type": "code",
   "execution_count": 56,
   "metadata": {
    "collapsed": false
   },
   "outputs": [
    {
     "data": {
      "text/html": [
       "<div>\n",
       "<table border=\"1\" class=\"dataframe\">\n",
       "  <thead>\n",
       "    <tr style=\"text-align: right;\">\n",
       "      <th></th>\n",
       "      <th>Server Address</th>\n",
       "    </tr>\n",
       "  </thead>\n",
       "  <tbody>\n",
       "    <tr>\n",
       "      <th>9995</th>\n",
       "      <td>173.194.33.65</td>\n",
       "    </tr>\n",
       "    <tr>\n",
       "      <th>9996</th>\n",
       "      <td>173.194.33.94</td>\n",
       "    </tr>\n",
       "    <tr>\n",
       "      <th>9997</th>\n",
       "      <td>54.230.69.112</td>\n",
       "    </tr>\n",
       "    <tr>\n",
       "      <th>9998</th>\n",
       "      <td>54.230.69.112</td>\n",
       "    </tr>\n",
       "    <tr>\n",
       "      <th>9999</th>\n",
       "      <td>54.230.69.112</td>\n",
       "    </tr>\n",
       "  </tbody>\n",
       "</table>\n",
       "</div>"
      ],
      "text/plain": [
       "     Server Address\n",
       "9995  173.194.33.65\n",
       "9996  173.194.33.94\n",
       "9997  54.230.69.112\n",
       "9998  54.230.69.112\n",
       "9999  54.230.69.112"
      ]
     },
     "execution_count": 56,
     "metadata": {},
     "output_type": "execute_result"
    }
   ],
   "source": [
    "justip.tail(5)"
   ]
  },
  {
   "cell_type": "markdown",
   "metadata": {},
   "source": [
    "We now have a list of IP addresses for our egress transactions that we want to compare against a list of known 'badactor' sites, called 'blocklist'. Blocklist contains 20,135 addresses. "
   ]
  },
  {
   "cell_type": "code",
   "execution_count": 57,
   "metadata": {
    "collapsed": true
   },
   "outputs": [],
   "source": [
    "blocklist = pd.read_csv('badips.csv', header=None, names=['Server Address'])"
   ]
  },
  {
   "cell_type": "code",
   "execution_count": 58,
   "metadata": {
    "collapsed": false
   },
   "outputs": [
    {
     "name": "stdout",
     "output_type": "stream",
     "text": [
      "<class 'pandas.core.frame.DataFrame'>\n",
      "RangeIndex: 20135 entries, 0 to 20134\n",
      "Data columns (total 1 columns):\n",
      "Server Address    20135 non-null object\n",
      "dtypes: object(1)\n",
      "memory usage: 157.4+ KB\n"
     ]
    }
   ],
   "source": [
    "blocklist.info()"
   ]
  },
  {
   "cell_type": "code",
   "execution_count": 59,
   "metadata": {
    "collapsed": false
   },
   "outputs": [
    {
     "data": {
      "text/html": [
       "<div>\n",
       "<table border=\"1\" class=\"dataframe\">\n",
       "  <thead>\n",
       "    <tr style=\"text-align: right;\">\n",
       "      <th></th>\n",
       "      <th>Server Address</th>\n",
       "    </tr>\n",
       "  </thead>\n",
       "  <tbody>\n",
       "    <tr>\n",
       "      <th>20130</th>\n",
       "      <td>188.143.235.21</td>\n",
       "    </tr>\n",
       "    <tr>\n",
       "      <th>20131</th>\n",
       "      <td>95.134.130.182</td>\n",
       "    </tr>\n",
       "    <tr>\n",
       "      <th>20132</th>\n",
       "      <td>95.143.192.159</td>\n",
       "    </tr>\n",
       "    <tr>\n",
       "      <th>20133</th>\n",
       "      <td>176.100.75.27</td>\n",
       "    </tr>\n",
       "    <tr>\n",
       "      <th>20134</th>\n",
       "      <td>176.221.42.32</td>\n",
       "    </tr>\n",
       "  </tbody>\n",
       "</table>\n",
       "</div>"
      ],
      "text/plain": [
       "       Server Address\n",
       "20130  188.143.235.21\n",
       "20131  95.134.130.182\n",
       "20132  95.143.192.159\n",
       "20133   176.100.75.27\n",
       "20134   176.221.42.32"
      ]
     },
     "execution_count": 59,
     "metadata": {},
     "output_type": "execute_result"
    }
   ],
   "source": [
    "blocklist.tail(5)"
   ]
  },
  {
   "cell_type": "markdown",
   "metadata": {
    "collapsed": true
   },
   "source": [
    "We merge the two data sets and find that there are 0 overlapping records.\n",
    "Congratulations! These transactions are not terminating at a known malicious site."
   ]
  },
  {
   "cell_type": "code",
   "execution_count": 60,
   "metadata": {
    "collapsed": false
   },
   "outputs": [],
   "source": [
    "joined_ips=pd.merge(egress,blocklist, on='Server Address', how='inner')"
   ]
  },
  {
   "cell_type": "code",
   "execution_count": 61,
   "metadata": {
    "collapsed": false,
    "scrolled": true
   },
   "outputs": [
    {
     "name": "stdout",
     "output_type": "stream",
     "text": [
      "<class 'pandas.core.frame.DataFrame'>\n",
      "Index: 0 entries\n",
      "Data columns (total 15 columns):\n",
      "Time               0 non-null object\n",
      "Record Type        0 non-null object\n",
      "Source             0 non-null object\n",
      "Destination        0 non-null object\n",
      "Source Location    0 non-null object\n",
      "Dest Location      0 non-null object\n",
      "Environment        0 non-null object\n",
      "Dest Country       0 non-null object\n",
      "Protocol           0 non-null object\n",
      "Client Address     0 non-null object\n",
      "Client Bytes       0 non-null object\n",
      "Server Address     0 non-null object\n",
      "Server Bytes       0 non-null object\n",
      "Latency            0 non-null object\n",
      "Process Time       0 non-null object\n",
      "dtypes: object(15)\n",
      "memory usage: 0.0+ bytes\n"
     ]
    }
   ],
   "source": [
    "joined_ips.info()"
   ]
  },
  {
   "cell_type": "code",
   "execution_count": 62,
   "metadata": {
    "collapsed": false
   },
   "outputs": [
    {
     "data": {
      "text/html": [
       "<div>\n",
       "<table border=\"1\" class=\"dataframe\">\n",
       "  <thead>\n",
       "    <tr style=\"text-align: right;\">\n",
       "      <th></th>\n",
       "      <th>Time</th>\n",
       "      <th>Record Type</th>\n",
       "      <th>Source</th>\n",
       "      <th>Destination</th>\n",
       "      <th>Source Location</th>\n",
       "      <th>Dest Location</th>\n",
       "      <th>Environment</th>\n",
       "      <th>Dest Country</th>\n",
       "      <th>Protocol</th>\n",
       "      <th>Client Address</th>\n",
       "      <th>Client Bytes</th>\n",
       "      <th>Server Address</th>\n",
       "      <th>Server Bytes</th>\n",
       "      <th>Latency</th>\n",
       "      <th>Process Time</th>\n",
       "    </tr>\n",
       "  </thead>\n",
       "  <tbody>\n",
       "  </tbody>\n",
       "</table>\n",
       "</div>"
      ],
      "text/plain": [
       "Empty DataFrame\n",
       "Columns: [Time, Record Type, Source, Destination, Source Location, Dest Location, Environment, Dest Country, Protocol, Client Address, Client Bytes, Server Address, Server Bytes, Latency, Process Time]\n",
       "Index: []"
      ]
     },
     "execution_count": 62,
     "metadata": {},
     "output_type": "execute_result"
    }
   ],
   "source": [
    "joined_ips.tail(20)"
   ]
  },
  {
   "cell_type": "markdown",
   "metadata": {},
   "source": [
    "Lets add some fake data (like fake news but better!) into our blocklist to make sure the join is working.  I have taken 10 IP addresses from the 'egress' data frame and concatonated it to the original blocklist to create fakeblocklist."
   ]
  },
  {
   "cell_type": "code",
   "execution_count": 63,
   "metadata": {
    "collapsed": true
   },
   "outputs": [],
   "source": [
    "fakeblocklist=pd.read_csv('fakebadservers.csv', names=['Server Address'])"
   ]
  },
  {
   "cell_type": "code",
   "execution_count": 64,
   "metadata": {
    "collapsed": false
   },
   "outputs": [],
   "source": [
    "fakeblocklist=pd.concat([blocklist, fakeblocklist], axis=0)"
   ]
  },
  {
   "cell_type": "code",
   "execution_count": 65,
   "metadata": {
    "collapsed": false
   },
   "outputs": [
    {
     "name": "stdout",
     "output_type": "stream",
     "text": [
      "<class 'pandas.core.frame.DataFrame'>\n",
      "Int64Index: 20145 entries, 0 to 9\n",
      "Data columns (total 1 columns):\n",
      "Server Address    20145 non-null object\n",
      "dtypes: object(1)\n",
      "memory usage: 314.8+ KB\n"
     ]
    }
   ],
   "source": [
    "fakeblocklist.info()"
   ]
  },
  {
   "cell_type": "code",
   "execution_count": 66,
   "metadata": {
    "collapsed": false
   },
   "outputs": [
    {
     "data": {
      "text/html": [
       "<div>\n",
       "<table border=\"1\" class=\"dataframe\">\n",
       "  <thead>\n",
       "    <tr style=\"text-align: right;\">\n",
       "      <th></th>\n",
       "      <th>Server Address</th>\n",
       "    </tr>\n",
       "  </thead>\n",
       "  <tbody>\n",
       "    <tr>\n",
       "      <th>0</th>\n",
       "      <td>1.173.37.30</td>\n",
       "    </tr>\n",
       "    <tr>\n",
       "      <th>1</th>\n",
       "      <td>1.192.229.40</td>\n",
       "    </tr>\n",
       "    <tr>\n",
       "      <th>2</th>\n",
       "      <td>1.194.116.78</td>\n",
       "    </tr>\n",
       "  </tbody>\n",
       "</table>\n",
       "</div>"
      ],
      "text/plain": [
       "  Server Address\n",
       "0    1.173.37.30\n",
       "1   1.192.229.40\n",
       "2   1.194.116.78"
      ]
     },
     "execution_count": 66,
     "metadata": {},
     "output_type": "execute_result"
    }
   ],
   "source": [
    "fakeblocklist.head(3)"
   ]
  },
  {
   "cell_type": "markdown",
   "metadata": {},
   "source": [
    "Merging egress and fakeblock list identifies 580 transactions associated with a known 'bad actor'. "
   ]
  },
  {
   "cell_type": "code",
   "execution_count": 67,
   "metadata": {
    "collapsed": true
   },
   "outputs": [],
   "source": [
    "joined_ips2=pd.merge(egress,fakeblocklist, on='Server Address', how='inner')"
   ]
  },
  {
   "cell_type": "code",
   "execution_count": 68,
   "metadata": {
    "collapsed": false
   },
   "outputs": [
    {
     "data": {
      "text/html": [
       "<div>\n",
       "<table border=\"1\" class=\"dataframe\">\n",
       "  <thead>\n",
       "    <tr style=\"text-align: right;\">\n",
       "      <th></th>\n",
       "      <th>Time</th>\n",
       "      <th>Record Type</th>\n",
       "      <th>Source</th>\n",
       "      <th>Destination</th>\n",
       "      <th>Source Location</th>\n",
       "      <th>Dest Location</th>\n",
       "      <th>Environment</th>\n",
       "      <th>Dest Country</th>\n",
       "      <th>Protocol</th>\n",
       "      <th>Client Address</th>\n",
       "      <th>Client Bytes</th>\n",
       "      <th>Server Address</th>\n",
       "      <th>Server Bytes</th>\n",
       "      <th>Latency</th>\n",
       "      <th>Process Time</th>\n",
       "    </tr>\n",
       "  </thead>\n",
       "  <tbody>\n",
       "    <tr>\n",
       "      <th>0</th>\n",
       "      <td>55:38.5</td>\n",
       "      <td>Flow Audit</td>\n",
       "      <td>External</td>\n",
       "      <td>External</td>\n",
       "      <td>DC Datacenter</td>\n",
       "      <td>DC Datacenter</td>\n",
       "      <td>EGRESS</td>\n",
       "      <td>United States</td>\n",
       "      <td>tcp:23</td>\n",
       "      <td>172.45.8.9</td>\n",
       "      <td>1</td>\n",
       "      <td>172.45.8.59</td>\n",
       "      <td>1</td>\n",
       "      <td>NaN</td>\n",
       "      <td>17.626</td>\n",
       "    </tr>\n",
       "    <tr>\n",
       "      <th>1</th>\n",
       "      <td>55:38.3</td>\n",
       "      <td>Flow Audit</td>\n",
       "      <td>External</td>\n",
       "      <td>External</td>\n",
       "      <td>DC Datacenter</td>\n",
       "      <td>DC Datacenter</td>\n",
       "      <td>EGRESS</td>\n",
       "      <td>United States</td>\n",
       "      <td>tcp:23</td>\n",
       "      <td>172.45.8.9</td>\n",
       "      <td>1</td>\n",
       "      <td>172.45.8.59</td>\n",
       "      <td>1</td>\n",
       "      <td>NaN</td>\n",
       "      <td>64.652</td>\n",
       "    </tr>\n",
       "    <tr>\n",
       "      <th>2</th>\n",
       "      <td>55:38.0</td>\n",
       "      <td>Flow Audit</td>\n",
       "      <td>External</td>\n",
       "      <td>External</td>\n",
       "      <td>DC Datacenter</td>\n",
       "      <td>DC Datacenter</td>\n",
       "      <td>EGRESS</td>\n",
       "      <td>United States</td>\n",
       "      <td>tcp:23</td>\n",
       "      <td>172.45.8.9</td>\n",
       "      <td>3</td>\n",
       "      <td>172.45.8.59</td>\n",
       "      <td>3</td>\n",
       "      <td>NaN</td>\n",
       "      <td>548,711.66</td>\n",
       "    </tr>\n",
       "    <tr>\n",
       "      <th>3</th>\n",
       "      <td>55:36.5</td>\n",
       "      <td>Flow Audit</td>\n",
       "      <td>External</td>\n",
       "      <td>External</td>\n",
       "      <td>DC Datacenter</td>\n",
       "      <td>DC Datacenter</td>\n",
       "      <td>EGRESS</td>\n",
       "      <td>United States</td>\n",
       "      <td>tcp:23</td>\n",
       "      <td>172.45.8.9</td>\n",
       "      <td>1</td>\n",
       "      <td>172.45.8.59</td>\n",
       "      <td>1</td>\n",
       "      <td>NaN</td>\n",
       "      <td>297.186</td>\n",
       "    </tr>\n",
       "    <tr>\n",
       "      <th>4</th>\n",
       "      <td>55:36.2</td>\n",
       "      <td>Flow Audit</td>\n",
       "      <td>External</td>\n",
       "      <td>External</td>\n",
       "      <td>DC Datacenter</td>\n",
       "      <td>DC Datacenter</td>\n",
       "      <td>EGRESS</td>\n",
       "      <td>United States</td>\n",
       "      <td>tcp:23</td>\n",
       "      <td>172.45.8.9</td>\n",
       "      <td>1</td>\n",
       "      <td>172.45.8.59</td>\n",
       "      <td>4</td>\n",
       "      <td>NaN</td>\n",
       "      <td>61.68</td>\n",
       "    </tr>\n",
       "  </tbody>\n",
       "</table>\n",
       "</div>"
      ],
      "text/plain": [
       "      Time Record Type    Source Destination Source Location  Dest Location  \\\n",
       "0  55:38.5  Flow Audit  External    External   DC Datacenter  DC Datacenter   \n",
       "1  55:38.3  Flow Audit  External    External   DC Datacenter  DC Datacenter   \n",
       "2  55:38.0  Flow Audit  External    External   DC Datacenter  DC Datacenter   \n",
       "3  55:36.5  Flow Audit  External    External   DC Datacenter  DC Datacenter   \n",
       "4  55:36.2  Flow Audit  External    External   DC Datacenter  DC Datacenter   \n",
       "\n",
       "  Environment   Dest Country Protocol Client Address Client Bytes  \\\n",
       "0      EGRESS  United States   tcp:23     172.45.8.9            1   \n",
       "1      EGRESS  United States   tcp:23     172.45.8.9            1   \n",
       "2      EGRESS  United States   tcp:23     172.45.8.9            3   \n",
       "3      EGRESS  United States   tcp:23     172.45.8.9            1   \n",
       "4      EGRESS  United States   tcp:23     172.45.8.9            1   \n",
       "\n",
       "  Server Address Server Bytes Latency Process Time  \n",
       "0    172.45.8.59            1     NaN       17.626  \n",
       "1    172.45.8.59            1     NaN       64.652  \n",
       "2    172.45.8.59            3     NaN   548,711.66  \n",
       "3    172.45.8.59            1     NaN      297.186  \n",
       "4    172.45.8.59            4     NaN        61.68  "
      ]
     },
     "execution_count": 68,
     "metadata": {},
     "output_type": "execute_result"
    }
   ],
   "source": [
    "joined_ips2.head(5)"
   ]
  },
  {
   "cell_type": "code",
   "execution_count": 69,
   "metadata": {
    "collapsed": false
   },
   "outputs": [
    {
     "name": "stdout",
     "output_type": "stream",
     "text": [
      "<class 'pandas.core.frame.DataFrame'>\n",
      "Int64Index: 580 entries, 0 to 579\n",
      "Data columns (total 15 columns):\n",
      "Time               580 non-null object\n",
      "Record Type        580 non-null object\n",
      "Source             580 non-null object\n",
      "Destination        580 non-null object\n",
      "Source Location    580 non-null object\n",
      "Dest Location      580 non-null object\n",
      "Environment        580 non-null object\n",
      "Dest Country       580 non-null object\n",
      "Protocol           580 non-null object\n",
      "Client Address     580 non-null object\n",
      "Client Bytes       573 non-null object\n",
      "Server Address     580 non-null object\n",
      "Server Bytes       573 non-null object\n",
      "Latency            193 non-null object\n",
      "Process Time       539 non-null object\n",
      "dtypes: object(15)\n",
      "memory usage: 72.5+ KB\n"
     ]
    }
   ],
   "source": [
    "joined_ips2.info()"
   ]
  },
  {
   "cell_type": "markdown",
   "metadata": {
    "collapsed": true
   },
   "source": [
    "I think Pandas offers a lot more analytic capability than Excel or SQL."
   ]
  }
 ],
 "metadata": {
  "kernelspec": {
   "display_name": "Python 3",
   "language": "python",
   "name": "python3"
  },
  "language_info": {
   "codemirror_mode": {
    "name": "ipython",
    "version": 3
   },
   "file_extension": ".py",
   "mimetype": "text/x-python",
   "name": "python",
   "nbconvert_exporter": "python",
   "pygments_lexer": "ipython3",
   "version": "3.6.0"
  }
 },
 "nbformat": 4,
 "nbformat_minor": 2
}
